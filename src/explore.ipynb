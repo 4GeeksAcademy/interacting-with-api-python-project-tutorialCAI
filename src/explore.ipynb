{
    "cells": [
        {
            "cell_type": "markdown",
            "metadata": {},
            "source": [
                "# Explore here"
            ]
        },
        {
            "cell_type": "code",
            "execution_count": 5,
            "metadata": {},
            "outputs": [],
            "source": [
                "import os\n",
                "import pandas as pd\n",
                "import seaborn as sns\n",
                "from dotenv import load_dotenv\n",
                "import spotipy\n",
                "from spotipy.oauth2 import SpotifyClientCredentials\n",
                "import matplotlib.pyplot as plt\n",
                "\n"
            ]
        },
        {
            "cell_type": "code",
            "execution_count": 7,
            "metadata": {},
            "outputs": [
                {
                    "name": "stdout",
                    "output_type": "stream",
                    "text": [
                        "0b980593fa374a16b92313da223e0cbd ed91641252874e0fb9076480bac05865 https://symmetrical-doodle-9gpjg6r464xf996g-43999.githubpreview.dev/\n"
                    ]
                }
            ],
            "source": [
                "load_dotenv()\n",
                "\n",
                "# Obtener las credenciales de las variables de entorno\n",
                "client_id = os.getenv(\"CLIENT_ID\")\n",
                "client_secret = os.getenv(\"CLIENT_SECRET\")\n",
                "redirect_uri = os.getenv(\"REDIRECT_URI\")\n",
                "\n",
                "# Imprimir para verificar si se cargaron correctamente\n",
                "print(client_id, client_secret, redirect_uri)"
            ]
        },
        {
            "cell_type": "code",
            "execution_count": 12,
            "metadata": {},
            "outputs": [
                {
                    "data": {
                        "text/plain": [
                            "[{'nombre': 'Me Sabe Mal', 'popularidad': 59, 'duracion_minutos': 3.27},\n",
                            " {'nombre': 'te vas a inventar', 'popularidad': 54, 'duracion_minutos': 2.87},\n",
                            " {'nombre': 'Gitana', 'popularidad': 55, 'duracion_minutos': 3.59},\n",
                            " {'nombre': 'estaré millor demà', 'popularidad': 52, 'duracion_minutos': 3.07},\n",
                            " {'nombre': 'bailamorena', 'popularidad': 53, 'duracion_minutos': 2.81},\n",
                            " {'nombre': 'Último Baile', 'popularidad': 50, 'duracion_minutos': 3.0},\n",
                            " {'nombre': 'amor de verano', 'popularidad': 47, 'duracion_minutos': 2.94},\n",
                            " {'nombre': 'échame la culpa <3', 'popularidad': 50, 'duracion_minutos': 2.99},\n",
                            " {'nombre': 'no te deseo lo peor :)',\n",
                            "  'popularidad': 48,\n",
                            "  'duracion_minutos': 3.16},\n",
                            " {'nombre': 'NADA QUE DECIR', 'popularidad': 48, 'duracion_minutos': 3.56}]"
                        ]
                    },
                    "execution_count": 12,
                    "metadata": {},
                    "output_type": "execute_result"
                }
            ],
            "source": [
                "spotify = spotipy.Spotify(auth_manager=SpotifyClientCredentials(client_id=client_id,\n",
                "                                                           client_secret=client_secret))\n",
                "\n",
                "artist_id = \"1IAwO3v7hVP9ryTQtlzc9y\"\n",
                "\n",
                "# Función para obtener el top 10 de canciones del artista\n",
                "def get_top_tracks(artist_id):\n",
                "    results = spotify.artist_top_tracks(artist_id)\n",
                "    tracks = results[\"tracks\"][:10]  # Top 10 canciones\n",
                "    return [\n",
                "        {\n",
                "            \"nombre\": track[\"name\"],\n",
                "            \"popularidad\": track[\"popularity\"],\n",
                "            \"duracion_minutos\": round(track[\"duration_ms\"] / 60000, 2)\n",
                "        }\n",
                "        for track in tracks\n",
                "    ]\n",
                "top_tracks = get_top_tracks(artist_id)\n",
                "top_tracks\n"
            ]
        },
        {
            "cell_type": "code",
            "execution_count": 13,
            "metadata": {},
            "outputs": [
                {
                    "data": {
                        "text/html": [
                            "<div>\n",
                            "<style scoped>\n",
                            "    .dataframe tbody tr th:only-of-type {\n",
                            "        vertical-align: middle;\n",
                            "    }\n",
                            "\n",
                            "    .dataframe tbody tr th {\n",
                            "        vertical-align: top;\n",
                            "    }\n",
                            "\n",
                            "    .dataframe thead th {\n",
                            "        text-align: right;\n",
                            "    }\n",
                            "</style>\n",
                            "<table border=\"1\" class=\"dataframe\">\n",
                            "  <thead>\n",
                            "    <tr style=\"text-align: right;\">\n",
                            "      <th></th>\n",
                            "      <th>nombre</th>\n",
                            "      <th>popularidad</th>\n",
                            "      <th>duracion_minutos</th>\n",
                            "    </tr>\n",
                            "  </thead>\n",
                            "  <tbody>\n",
                            "    <tr>\n",
                            "      <th>6</th>\n",
                            "      <td>amor de verano</td>\n",
                            "      <td>47</td>\n",
                            "      <td>2.94</td>\n",
                            "    </tr>\n",
                            "    <tr>\n",
                            "      <th>8</th>\n",
                            "      <td>no te deseo lo peor :)</td>\n",
                            "      <td>48</td>\n",
                            "      <td>3.16</td>\n",
                            "    </tr>\n",
                            "    <tr>\n",
                            "      <th>9</th>\n",
                            "      <td>NADA QUE DECIR</td>\n",
                            "      <td>48</td>\n",
                            "      <td>3.56</td>\n",
                            "    </tr>\n",
                            "  </tbody>\n",
                            "</table>\n",
                            "</div>"
                        ],
                        "text/plain": [
                            "                   nombre  popularidad  duracion_minutos\n",
                            "6          amor de verano           47              2.94\n",
                            "8  no te deseo lo peor :)           48              3.16\n",
                            "9          NADA QUE DECIR           48              3.56"
                        ]
                    },
                    "execution_count": 13,
                    "metadata": {},
                    "output_type": "execute_result"
                }
            ],
            "source": [
                "df = pd.DataFrame(top_tracks)\n",
                "\n",
                "# Ordenar por popularidad creciente\n",
                "df_sorted = df.sort_values(by=\"popularidad\", ascending=True)\n",
                "\n",
                "# Mostrar el top 3 más popular\n",
                "top_3 = df_sorted.head(3)\n",
                "top_3"
            ]
        },
        {
            "cell_type": "code",
            "execution_count": 14,
            "metadata": {},
            "outputs": [
                {
                    "data": {
                        "image/png": "[encoded data removed]",
                        "text/plain": [
                            "<Figure size 1000x600 with 1 Axes>"
                        ]
                    },
                    "metadata": {},
                    "output_type": "display_data"
                }
            ],
            "source": [
                "plt.figure(figsize=(10, 6))\n",
                "sns.scatterplot(data=df, x=\"duracion_minutos\", y=\"popularidad\", marker='o', color='b')\n",
                "\n",
                "# Título y etiquetas\n",
                "plt.title('Relación entre la duración y la popularidad de las canciones de BTS')\n",
                "plt.xlabel('Duración (minutos)')\n",
                "plt.ylabel('Popularidad')\n",
                "\n",
                "# Mostrar el gráfico\n",
                "plt.show()"
            ]
        }
    ],
    "metadata": {
        "kernelspec": {
            "display_name": "Python 3",
            "language": "python",
            "name": "python3"
        },
        "language_info": {
            "codemirror_mode": {
                "name": "ipython",
                "version": 3
            },
            "file_extension": ".py",
            "mimetype": "text/x-python",
            "name": "python",
            "nbconvert_exporter": "python",
            "pygments_lexer": "ipython3",
            "version": "3.11.4"
        },
        "orig_nbformat": 4
    },
    "nbformat": 4,
    "nbformat_minor": 2
}
